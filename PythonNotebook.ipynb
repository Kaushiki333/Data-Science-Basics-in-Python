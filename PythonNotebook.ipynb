{
 "cells": [
  {
   "cell_type": "markdown",
   "metadata": {},
   "source": [
    "# Basic Stats Computation in Python"
   ]
  },
  {
   "cell_type": "markdown",
   "metadata": {},
   "source": [
    "The very first step towards Data Science involve understanding the basics of Statistics in order to analyse the data efficiently. Here, we are going to see how to use simple commands and libraries of Python for analysing the data and further compute certain Statistical parameters for any data like mean, median, mode, vriance and standard deviation."
   ]
  },
  {
   "cell_type": "markdown",
   "metadata": {},
   "source": [
    "## Computation on an arbitrary list using Numpy"
   ]
  },
  {
   "cell_type": "code",
   "execution_count": 1,
   "metadata": {
    "id": "euRScrQlBt-F"
   },
   "outputs": [],
   "source": [
    "list1 = [1,2,3,4,7,6,9,8,6,3,2,9,0,1,6,7,8,9,4,4,5,2,10,4,1,5,2,6,5]"
   ]
  },
  {
   "cell_type": "code",
   "execution_count": 2,
   "metadata": {
    "id": "WoNoMqCfBv4l"
   },
   "outputs": [],
   "source": [
    "import numpy as np\n",
    "from scipy import stats"
   ]
  },
  {
   "cell_type": "markdown",
   "metadata": {},
   "source": [
    "### 1. Mean"
   ]
  },
  {
   "cell_type": "code",
   "execution_count": 3,
   "metadata": {
    "colab": {
     "base_uri": "https://localhost:8080/"
    },
    "id": "gImZbnCCBwSi",
    "outputId": "b7f49268-6844-4b41-a796-9de562e26873"
   },
   "outputs": [
    {
     "data": {
      "text/plain": [
       "4.793103448275862"
      ]
     },
     "execution_count": 3,
     "metadata": {},
     "output_type": "execute_result"
    }
   ],
   "source": [
    "#mean\n",
    "mean_list1 = np.mean(list1)\n",
    "mean_list1"
   ]
  },
  {
   "cell_type": "markdown",
   "metadata": {},
   "source": [
    "### 2. Median"
   ]
  },
  {
   "cell_type": "code",
   "execution_count": 4,
   "metadata": {
    "colab": {
     "base_uri": "https://localhost:8080/"
    },
    "id": "K2pU-ixFBweh",
    "outputId": "c7756528-43f4-4891-f67f-321e7b089713"
   },
   "outputs": [
    {
     "data": {
      "text/plain": [
       "5.0"
      ]
     },
     "execution_count": 4,
     "metadata": {},
     "output_type": "execute_result"
    }
   ],
   "source": [
    "#median\n",
    "median_list1 = np.median(list1)\n",
    "median_list1"
   ]
  },
  {
   "cell_type": "markdown",
   "metadata": {},
   "source": [
    "### 3. Mode"
   ]
  },
  {
   "cell_type": "code",
   "execution_count": 5,
   "metadata": {
    "colab": {
     "base_uri": "https://localhost:8080/"
    },
    "id": "m5TVeXC6CPN0",
    "outputId": "ca9d9d79-35c6-4dae-9905-28ea2af2318b"
   },
   "outputs": [
    {
     "name": "stdout",
     "output_type": "stream",
     "text": [
      "ModeResult(mode=array([2]), count=array([4]))\n"
     ]
    }
   ],
   "source": [
    "#mode\n",
    "mode_list1 = stats.mode(list1)\n",
    "print(mode_list1)"
   ]
  },
  {
   "cell_type": "markdown",
   "metadata": {},
   "source": [
    "### 4. Variance"
   ]
  },
  {
   "cell_type": "code",
   "execution_count": 6,
   "metadata": {
    "colab": {
     "base_uri": "https://localhost:8080/"
    },
    "id": "gvHxRPPQCPjt",
    "outputId": "618c19fd-0b87-4b90-9bf5-6dee69fb828c"
   },
   "outputs": [
    {
     "data": {
      "text/plain": [
       "7.681331747919144"
      ]
     },
     "execution_count": 6,
     "metadata": {},
     "output_type": "execute_result"
    }
   ],
   "source": [
    "#variance\n",
    "var_list1 = np.var(list1)\n",
    "var_list1"
   ]
  },
  {
   "cell_type": "markdown",
   "metadata": {},
   "source": [
    "### 5. Standard Deviation"
   ]
  },
  {
   "cell_type": "code",
   "execution_count": 7,
   "metadata": {
    "colab": {
     "base_uri": "https://localhost:8080/"
    },
    "id": "itEctdpiCQ9R",
    "outputId": "c6e0b214-c138-4595-91cf-fca3d9267132"
   },
   "outputs": [
    {
     "data": {
      "text/plain": [
       "2.7715215582634647"
      ]
     },
     "execution_count": 7,
     "metadata": {},
     "output_type": "execute_result"
    }
   ],
   "source": [
    "#standard deviation\n",
    "sd_list1 = np.std(list1)\n",
    "sd_list1"
   ]
  },
  {
   "cell_type": "markdown",
   "metadata": {},
   "source": [
    "## Computation on an arbitrary dataframe"
   ]
  },
  {
   "cell_type": "markdown",
   "metadata": {},
   "source": [
    "### 1. Create DataFrame using Pandas library"
   ]
  },
  {
   "cell_type": "code",
   "execution_count": 8,
   "metadata": {
    "id": "QFsoSVg_PsEy"
   },
   "outputs": [],
   "source": [
    "buffTail = [10, 1, 37, 5, 12]\n",
    "GarderBee = [8, 3, 19, 6, 4]\n",
    "RedTail = [18, 9, 1, 2, 4]\n",
    "HoneyBee = [12, 13, 16, 9, 10]\n",
    "CarderBee = [8, 27, 6, 32, 23]"
   ]
  },
  {
   "cell_type": "code",
   "execution_count": 9,
   "metadata": {
    "colab": {
     "base_uri": "https://localhost:8080/"
    },
    "id": "X3BYdbamP5tg",
    "outputId": "25a4414c-e819-4a6d-d1f0-c4df13747336"
   },
   "outputs": [
    {
     "data": {
      "text/plain": [
       "{'buffTail': [10, 1, 37, 5, 12],\n",
       " 'GarderBee': [8, 3, 19, 6, 4],\n",
       " 'RedTail': [18, 9, 1, 2, 4],\n",
       " 'HoneyBee': [12, 13, 16, 9, 10],\n",
       " 'CarderBee': [8, 27, 6, 32, 23]}"
      ]
     },
     "execution_count": 9,
     "metadata": {},
     "output_type": "execute_result"
    }
   ],
   "source": [
    "data = {\n",
    "    'buffTail' : buffTail,\n",
    "    'GarderBee' : GarderBee,\n",
    "    'RedTail' : RedTail,\n",
    "    'HoneyBee' : HoneyBee, \n",
    "    'CarderBee' : CarderBee}\n",
    "data"
   ]
  },
  {
   "cell_type": "code",
   "execution_count": 10,
   "metadata": {
    "colab": {
     "base_uri": "https://localhost:8080/",
     "height": 204
    },
    "id": "s4wxoYfnQ42X",
    "outputId": "a0338f80-75d9-4be8-968e-cfbf4cec3a24"
   },
   "outputs": [
    {
     "data": {
      "text/html": [
       "<div>\n",
       "<style scoped>\n",
       "    .dataframe tbody tr th:only-of-type {\n",
       "        vertical-align: middle;\n",
       "    }\n",
       "\n",
       "    .dataframe tbody tr th {\n",
       "        vertical-align: top;\n",
       "    }\n",
       "\n",
       "    .dataframe thead th {\n",
       "        text-align: right;\n",
       "    }\n",
       "</style>\n",
       "<table border=\"1\" class=\"dataframe\">\n",
       "  <thead>\n",
       "    <tr style=\"text-align: right;\">\n",
       "      <th></th>\n",
       "      <th>buffTail</th>\n",
       "      <th>GarderBee</th>\n",
       "      <th>RedTail</th>\n",
       "      <th>HoneyBee</th>\n",
       "      <th>CarderBee</th>\n",
       "    </tr>\n",
       "  </thead>\n",
       "  <tbody>\n",
       "    <tr>\n",
       "      <th>Thistle</th>\n",
       "      <td>10</td>\n",
       "      <td>8</td>\n",
       "      <td>18</td>\n",
       "      <td>12</td>\n",
       "      <td>8</td>\n",
       "    </tr>\n",
       "    <tr>\n",
       "      <th>Viper Bugloss</th>\n",
       "      <td>1</td>\n",
       "      <td>3</td>\n",
       "      <td>9</td>\n",
       "      <td>13</td>\n",
       "      <td>27</td>\n",
       "    </tr>\n",
       "    <tr>\n",
       "      <th>Golden Rain</th>\n",
       "      <td>37</td>\n",
       "      <td>19</td>\n",
       "      <td>1</td>\n",
       "      <td>16</td>\n",
       "      <td>6</td>\n",
       "    </tr>\n",
       "    <tr>\n",
       "      <th>Yellow Alfalfa</th>\n",
       "      <td>5</td>\n",
       "      <td>6</td>\n",
       "      <td>2</td>\n",
       "      <td>9</td>\n",
       "      <td>32</td>\n",
       "    </tr>\n",
       "    <tr>\n",
       "      <th>Blackberry</th>\n",
       "      <td>12</td>\n",
       "      <td>4</td>\n",
       "      <td>4</td>\n",
       "      <td>10</td>\n",
       "      <td>23</td>\n",
       "    </tr>\n",
       "  </tbody>\n",
       "</table>\n",
       "</div>"
      ],
      "text/plain": [
       "                buffTail  GarderBee  RedTail  HoneyBee  CarderBee\n",
       "Thistle               10          8       18        12          8\n",
       "Viper Bugloss          1          3        9        13         27\n",
       "Golden Rain           37         19        1        16          6\n",
       "Yellow Alfalfa         5          6        2         9         32\n",
       "Blackberry            12          4        4        10         23"
      ]
     },
     "execution_count": 10,
     "metadata": {},
     "output_type": "execute_result"
    }
   ],
   "source": [
    "import pandas as pd \n",
    "df = pd.DataFrame(data, index = ['Thistle', \n",
    "                                 'Viper Bugloss', \n",
    "                                 'Golden Rain', \n",
    "                                 'Yellow Alfalfa', \n",
    "                                 'Blackberry'])\n",
    "df"
   ]
  },
  {
   "cell_type": "code",
   "execution_count": 11,
   "metadata": {
    "colab": {
     "base_uri": "https://localhost:8080/",
     "height": 102
    },
    "id": "M3xwddfkRXjE",
    "outputId": "463e7922-d218-4066-ccac-adb9b2c263fc"
   },
   "outputs": [
    {
     "data": {
      "text/plain": [
       "array([[10,  8, 18, 12,  8],\n",
       "       [ 1,  3,  9, 13, 27],\n",
       "       [37, 19,  1, 16,  6],\n",
       "       [ 5,  6,  2,  9, 32],\n",
       "       [12,  4,  4, 10, 23]], dtype=int64)"
      ]
     },
     "metadata": {},
     "output_type": "display_data"
    }
   ],
   "source": [
    "import numpy as np\n",
    "display(df.to_numpy())"
   ]
  },
  {
   "cell_type": "code",
   "execution_count": 12,
   "metadata": {
    "colab": {
     "base_uri": "https://localhost:8080/",
     "height": 204
    },
    "id": "IuSvdyCRShRY",
    "outputId": "8d935f06-9e25-474b-d5a8-16fb1fad52a4",
    "scrolled": true
   },
   "outputs": [
    {
     "data": {
      "text/html": [
       "<div>\n",
       "<style scoped>\n",
       "    .dataframe tbody tr th:only-of-type {\n",
       "        vertical-align: middle;\n",
       "    }\n",
       "\n",
       "    .dataframe tbody tr th {\n",
       "        vertical-align: top;\n",
       "    }\n",
       "\n",
       "    .dataframe thead th {\n",
       "        text-align: right;\n",
       "    }\n",
       "</style>\n",
       "<table border=\"1\" class=\"dataframe\">\n",
       "  <thead>\n",
       "    <tr style=\"text-align: right;\">\n",
       "      <th></th>\n",
       "      <th>buffTail</th>\n",
       "      <th>GarderBee</th>\n",
       "      <th>RedTail</th>\n",
       "      <th>HoneyBee</th>\n",
       "      <th>CarderBee</th>\n",
       "    </tr>\n",
       "  </thead>\n",
       "  <tbody>\n",
       "    <tr>\n",
       "      <th>Thistle</th>\n",
       "      <td>10</td>\n",
       "      <td>8</td>\n",
       "      <td>18</td>\n",
       "      <td>12</td>\n",
       "      <td>8</td>\n",
       "    </tr>\n",
       "    <tr>\n",
       "      <th>Viper Bugloss</th>\n",
       "      <td>1</td>\n",
       "      <td>3</td>\n",
       "      <td>9</td>\n",
       "      <td>13</td>\n",
       "      <td>27</td>\n",
       "    </tr>\n",
       "    <tr>\n",
       "      <th>Golden Rain</th>\n",
       "      <td>37</td>\n",
       "      <td>19</td>\n",
       "      <td>1</td>\n",
       "      <td>16</td>\n",
       "      <td>6</td>\n",
       "    </tr>\n",
       "    <tr>\n",
       "      <th>Yellow Alfalfa</th>\n",
       "      <td>5</td>\n",
       "      <td>6</td>\n",
       "      <td>2</td>\n",
       "      <td>9</td>\n",
       "      <td>32</td>\n",
       "    </tr>\n",
       "    <tr>\n",
       "      <th>Blackberry</th>\n",
       "      <td>12</td>\n",
       "      <td>4</td>\n",
       "      <td>4</td>\n",
       "      <td>10</td>\n",
       "      <td>23</td>\n",
       "    </tr>\n",
       "  </tbody>\n",
       "</table>\n",
       "</div>"
      ],
      "text/plain": [
       "                buffTail  GarderBee  RedTail  HoneyBee  CarderBee\n",
       "Thistle               10          8       18        12          8\n",
       "Viper Bugloss          1          3        9        13         27\n",
       "Golden Rain           37         19        1        16          6\n",
       "Yellow Alfalfa         5          6        2         9         32\n",
       "Blackberry            12          4        4        10         23"
      ]
     },
     "metadata": {},
     "output_type": "display_data"
    }
   ],
   "source": [
    "display(df)"
   ]
  },
  {
   "cell_type": "markdown",
   "metadata": {},
   "source": [
    "### 2. Accessing particular row of DataFrame"
   ]
  },
  {
   "cell_type": "code",
   "execution_count": 13,
   "metadata": {
    "colab": {
     "base_uri": "https://localhost:8080/",
     "height": 80
    },
    "id": "6TEhN9pnS8lH",
    "outputId": "4ae84d40-74a7-493b-fa78-658ae58f9434",
    "scrolled": true
   },
   "outputs": [
    {
     "data": {
      "text/html": [
       "<div>\n",
       "<style scoped>\n",
       "    .dataframe tbody tr th:only-of-type {\n",
       "        vertical-align: middle;\n",
       "    }\n",
       "\n",
       "    .dataframe tbody tr th {\n",
       "        vertical-align: top;\n",
       "    }\n",
       "\n",
       "    .dataframe thead th {\n",
       "        text-align: right;\n",
       "    }\n",
       "</style>\n",
       "<table border=\"1\" class=\"dataframe\">\n",
       "  <thead>\n",
       "    <tr style=\"text-align: right;\">\n",
       "      <th></th>\n",
       "      <th>buffTail</th>\n",
       "      <th>GarderBee</th>\n",
       "      <th>RedTail</th>\n",
       "      <th>HoneyBee</th>\n",
       "      <th>CarderBee</th>\n",
       "    </tr>\n",
       "  </thead>\n",
       "  <tbody>\n",
       "    <tr>\n",
       "      <th>Blackberry</th>\n",
       "      <td>12</td>\n",
       "      <td>4</td>\n",
       "      <td>4</td>\n",
       "      <td>10</td>\n",
       "      <td>23</td>\n",
       "    </tr>\n",
       "  </tbody>\n",
       "</table>\n",
       "</div>"
      ],
      "text/plain": [
       "            buffTail  GarderBee  RedTail  HoneyBee  CarderBee\n",
       "Blackberry        12          4        4        10         23"
      ]
     },
     "metadata": {},
     "output_type": "display_data"
    }
   ],
   "source": [
    "display(df.loc[['Blackberry'],:])"
   ]
  },
  {
   "cell_type": "code",
   "execution_count": 14,
   "metadata": {
    "colab": {
     "base_uri": "https://localhost:8080/",
     "height": 111
    },
    "id": "NHTRl8glTM_r",
    "outputId": "6f80af0b-b896-45db-cf9e-0e082cf5e6b9"
   },
   "outputs": [
    {
     "data": {
      "text/html": [
       "<div>\n",
       "<style scoped>\n",
       "    .dataframe tbody tr th:only-of-type {\n",
       "        vertical-align: middle;\n",
       "    }\n",
       "\n",
       "    .dataframe tbody tr th {\n",
       "        vertical-align: top;\n",
       "    }\n",
       "\n",
       "    .dataframe thead th {\n",
       "        text-align: right;\n",
       "    }\n",
       "</style>\n",
       "<table border=\"1\" class=\"dataframe\">\n",
       "  <thead>\n",
       "    <tr style=\"text-align: right;\">\n",
       "      <th></th>\n",
       "      <th>buffTail</th>\n",
       "      <th>GarderBee</th>\n",
       "      <th>RedTail</th>\n",
       "      <th>HoneyBee</th>\n",
       "      <th>CarderBee</th>\n",
       "    </tr>\n",
       "  </thead>\n",
       "  <tbody>\n",
       "    <tr>\n",
       "      <th>Golden Rain</th>\n",
       "      <td>37</td>\n",
       "      <td>19</td>\n",
       "      <td>1</td>\n",
       "      <td>16</td>\n",
       "      <td>6</td>\n",
       "    </tr>\n",
       "    <tr>\n",
       "      <th>Yellow Alfalfa</th>\n",
       "      <td>5</td>\n",
       "      <td>6</td>\n",
       "      <td>2</td>\n",
       "      <td>9</td>\n",
       "      <td>32</td>\n",
       "    </tr>\n",
       "  </tbody>\n",
       "</table>\n",
       "</div>"
      ],
      "text/plain": [
       "                buffTail  GarderBee  RedTail  HoneyBee  CarderBee\n",
       "Golden Rain           37         19        1        16          6\n",
       "Yellow Alfalfa         5          6        2         9         32"
      ]
     },
     "metadata": {},
     "output_type": "display_data"
    }
   ],
   "source": [
    "display(df.loc[['Golden Rain', 'Yellow Alfalfa'],:])"
   ]
  },
  {
   "cell_type": "markdown",
   "metadata": {},
   "source": [
    "### 3. Accessing particular column of DataFrame"
   ]
  },
  {
   "cell_type": "code",
   "execution_count": 15,
   "metadata": {
    "colab": {
     "base_uri": "https://localhost:8080/",
     "height": 204
    },
    "id": "96uLkP2YT_Jg",
    "outputId": "f08ca507-9ea7-4ce2-b1e8-8a68e3aea15b",
    "scrolled": true
   },
   "outputs": [
    {
     "data": {
      "text/html": [
       "<div>\n",
       "<style scoped>\n",
       "    .dataframe tbody tr th:only-of-type {\n",
       "        vertical-align: middle;\n",
       "    }\n",
       "\n",
       "    .dataframe tbody tr th {\n",
       "        vertical-align: top;\n",
       "    }\n",
       "\n",
       "    .dataframe thead th {\n",
       "        text-align: right;\n",
       "    }\n",
       "</style>\n",
       "<table border=\"1\" class=\"dataframe\">\n",
       "  <thead>\n",
       "    <tr style=\"text-align: right;\">\n",
       "      <th></th>\n",
       "      <th>RedTail</th>\n",
       "    </tr>\n",
       "  </thead>\n",
       "  <tbody>\n",
       "    <tr>\n",
       "      <th>Thistle</th>\n",
       "      <td>18</td>\n",
       "    </tr>\n",
       "    <tr>\n",
       "      <th>Viper Bugloss</th>\n",
       "      <td>9</td>\n",
       "    </tr>\n",
       "    <tr>\n",
       "      <th>Golden Rain</th>\n",
       "      <td>1</td>\n",
       "    </tr>\n",
       "    <tr>\n",
       "      <th>Yellow Alfalfa</th>\n",
       "      <td>2</td>\n",
       "    </tr>\n",
       "    <tr>\n",
       "      <th>Blackberry</th>\n",
       "      <td>4</td>\n",
       "    </tr>\n",
       "  </tbody>\n",
       "</table>\n",
       "</div>"
      ],
      "text/plain": [
       "                RedTail\n",
       "Thistle              18\n",
       "Viper Bugloss         9\n",
       "Golden Rain           1\n",
       "Yellow Alfalfa        2\n",
       "Blackberry            4"
      ]
     },
     "metadata": {},
     "output_type": "display_data"
    }
   ],
   "source": [
    "display(df.loc[:,['RedTail']])"
   ]
  },
  {
   "cell_type": "markdown",
   "metadata": {},
   "source": [
    "### 4. Sort w.r.t. a particular Column"
   ]
  },
  {
   "cell_type": "code",
   "execution_count": 16,
   "metadata": {
    "colab": {
     "base_uri": "https://localhost:8080/",
     "height": 204
    },
    "id": "-ZPCuOicUQaK",
    "outputId": "d8a4f8c1-7d2a-44c0-c17e-59dba586d8bd",
    "scrolled": true
   },
   "outputs": [
    {
     "data": {
      "text/html": [
       "<div>\n",
       "<style scoped>\n",
       "    .dataframe tbody tr th:only-of-type {\n",
       "        vertical-align: middle;\n",
       "    }\n",
       "\n",
       "    .dataframe tbody tr th {\n",
       "        vertical-align: top;\n",
       "    }\n",
       "\n",
       "    .dataframe thead th {\n",
       "        text-align: right;\n",
       "    }\n",
       "</style>\n",
       "<table border=\"1\" class=\"dataframe\">\n",
       "  <thead>\n",
       "    <tr style=\"text-align: right;\">\n",
       "      <th></th>\n",
       "      <th>buffTail</th>\n",
       "      <th>GarderBee</th>\n",
       "      <th>RedTail</th>\n",
       "      <th>HoneyBee</th>\n",
       "      <th>CarderBee</th>\n",
       "    </tr>\n",
       "  </thead>\n",
       "  <tbody>\n",
       "    <tr>\n",
       "      <th>Golden Rain</th>\n",
       "      <td>37</td>\n",
       "      <td>19</td>\n",
       "      <td>1</td>\n",
       "      <td>16</td>\n",
       "      <td>6</td>\n",
       "    </tr>\n",
       "    <tr>\n",
       "      <th>Blackberry</th>\n",
       "      <td>12</td>\n",
       "      <td>4</td>\n",
       "      <td>4</td>\n",
       "      <td>10</td>\n",
       "      <td>23</td>\n",
       "    </tr>\n",
       "    <tr>\n",
       "      <th>Thistle</th>\n",
       "      <td>10</td>\n",
       "      <td>8</td>\n",
       "      <td>18</td>\n",
       "      <td>12</td>\n",
       "      <td>8</td>\n",
       "    </tr>\n",
       "    <tr>\n",
       "      <th>Yellow Alfalfa</th>\n",
       "      <td>5</td>\n",
       "      <td>6</td>\n",
       "      <td>2</td>\n",
       "      <td>9</td>\n",
       "      <td>32</td>\n",
       "    </tr>\n",
       "    <tr>\n",
       "      <th>Viper Bugloss</th>\n",
       "      <td>1</td>\n",
       "      <td>3</td>\n",
       "      <td>9</td>\n",
       "      <td>13</td>\n",
       "      <td>27</td>\n",
       "    </tr>\n",
       "  </tbody>\n",
       "</table>\n",
       "</div>"
      ],
      "text/plain": [
       "                buffTail  GarderBee  RedTail  HoneyBee  CarderBee\n",
       "Golden Rain           37         19        1        16          6\n",
       "Blackberry            12          4        4        10         23\n",
       "Thistle               10          8       18        12          8\n",
       "Yellow Alfalfa         5          6        2         9         32\n",
       "Viper Bugloss          1          3        9        13         27"
      ]
     },
     "execution_count": 16,
     "metadata": {},
     "output_type": "execute_result"
    }
   ],
   "source": [
    "df.sort_values(by=['buffTail'], ascending=False)"
   ]
  },
  {
   "cell_type": "markdown",
   "metadata": {},
   "source": [
    "### 5. Create a sample out of the DataFrame"
   ]
  },
  {
   "cell_type": "code",
   "execution_count": 17,
   "metadata": {
    "colab": {
     "base_uri": "https://localhost:8080/",
     "height": 142
    },
    "id": "hUGRffY-V_Jp",
    "outputId": "fcef3d3e-0221-461e-d4b2-cbe6d160c80f",
    "scrolled": true
   },
   "outputs": [
    {
     "data": {
      "text/html": [
       "<div>\n",
       "<style scoped>\n",
       "    .dataframe tbody tr th:only-of-type {\n",
       "        vertical-align: middle;\n",
       "    }\n",
       "\n",
       "    .dataframe tbody tr th {\n",
       "        vertical-align: top;\n",
       "    }\n",
       "\n",
       "    .dataframe thead th {\n",
       "        text-align: right;\n",
       "    }\n",
       "</style>\n",
       "<table border=\"1\" class=\"dataframe\">\n",
       "  <thead>\n",
       "    <tr style=\"text-align: right;\">\n",
       "      <th></th>\n",
       "      <th>buffTail</th>\n",
       "      <th>GarderBee</th>\n",
       "      <th>RedTail</th>\n",
       "      <th>HoneyBee</th>\n",
       "      <th>CarderBee</th>\n",
       "    </tr>\n",
       "  </thead>\n",
       "  <tbody>\n",
       "    <tr>\n",
       "      <th>Golden Rain</th>\n",
       "      <td>37</td>\n",
       "      <td>19</td>\n",
       "      <td>1</td>\n",
       "      <td>16</td>\n",
       "      <td>6</td>\n",
       "    </tr>\n",
       "    <tr>\n",
       "      <th>Viper Bugloss</th>\n",
       "      <td>1</td>\n",
       "      <td>3</td>\n",
       "      <td>9</td>\n",
       "      <td>13</td>\n",
       "      <td>27</td>\n",
       "    </tr>\n",
       "    <tr>\n",
       "      <th>Blackberry</th>\n",
       "      <td>12</td>\n",
       "      <td>4</td>\n",
       "      <td>4</td>\n",
       "      <td>10</td>\n",
       "      <td>23</td>\n",
       "    </tr>\n",
       "  </tbody>\n",
       "</table>\n",
       "</div>"
      ],
      "text/plain": [
       "               buffTail  GarderBee  RedTail  HoneyBee  CarderBee\n",
       "Golden Rain          37         19        1        16          6\n",
       "Viper Bugloss         1          3        9        13         27\n",
       "Blackberry           12          4        4        10         23"
      ]
     },
     "execution_count": 17,
     "metadata": {},
     "output_type": "execute_result"
    }
   ],
   "source": [
    "df1 = df.sample(n = 3, random_state = 1)\n",
    "df1"
   ]
  },
  {
   "cell_type": "markdown",
   "metadata": {},
   "source": [
    "### 6. Mean of each Attribute(Column) using Numpy"
   ]
  },
  {
   "cell_type": "code",
   "execution_count": 18,
   "metadata": {
    "colab": {
     "base_uri": "https://localhost:8080/",
     "height": 119
    },
    "id": "2SgFYZMnX3wq",
    "outputId": "a6908c80-4b6c-4d30-d8ce-debf50abc89f"
   },
   "outputs": [
    {
     "data": {
      "text/plain": [
       "buffTail     16.666667\n",
       "GarderBee     8.666667\n",
       "RedTail       4.666667\n",
       "HoneyBee     13.000000\n",
       "CarderBee    18.666667\n",
       "dtype: float64"
      ]
     },
     "metadata": {},
     "output_type": "display_data"
    }
   ],
   "source": [
    "#Avg of the sample\n",
    "meanData = np.mean(df1)\n",
    "display(meanData)"
   ]
  },
  {
   "cell_type": "markdown",
   "metadata": {},
   "source": [
    "### 7. Mean of each Attribute using Pandas"
   ]
  },
  {
   "cell_type": "code",
   "execution_count": 19,
   "metadata": {
    "colab": {
     "base_uri": "https://localhost:8080/",
     "height": 119
    },
    "id": "vzXtUEx2xJYC",
    "outputId": "f82383b1-37c9-411b-d75f-d628e2840980"
   },
   "outputs": [
    {
     "data": {
      "text/plain": [
       "buffTail     16.666667\n",
       "GarderBee     8.666667\n",
       "RedTail       4.666667\n",
       "HoneyBee     13.000000\n",
       "CarderBee    18.666667\n",
       "dtype: float64"
      ]
     },
     "metadata": {},
     "output_type": "display_data"
    }
   ],
   "source": [
    "display(df1.mean())"
   ]
  },
  {
   "cell_type": "markdown",
   "metadata": {},
   "source": [
    "### 8. Max value using Pandas"
   ]
  },
  {
   "cell_type": "code",
   "execution_count": 20,
   "metadata": {
    "colab": {
     "base_uri": "https://localhost:8080/",
     "height": 119
    },
    "id": "mKe7O-ekYRFh",
    "outputId": "e16bfd78-8234-4380-f391-864273796413"
   },
   "outputs": [
    {
     "data": {
      "text/plain": [
       "buffTail     37\n",
       "GarderBee    19\n",
       "RedTail       9\n",
       "HoneyBee     16\n",
       "CarderBee    27\n",
       "dtype: int64"
      ]
     },
     "metadata": {},
     "output_type": "display_data"
    }
   ],
   "source": [
    "#Largest value in sample\n",
    "maxData = df1.max()\n",
    "display(maxData)"
   ]
  },
  {
   "cell_type": "markdown",
   "metadata": {},
   "source": [
    "### 9. Min value using Pandas"
   ]
  },
  {
   "cell_type": "code",
   "execution_count": 21,
   "metadata": {
    "colab": {
     "base_uri": "https://localhost:8080/",
     "height": 119
    },
    "id": "VuY5K6uJYjgq",
    "outputId": "348f4f03-3960-4eef-e864-56b88ac9c295"
   },
   "outputs": [
    {
     "data": {
      "text/plain": [
       "buffTail      1\n",
       "GarderBee     3\n",
       "RedTail       1\n",
       "HoneyBee     10\n",
       "CarderBee     6\n",
       "dtype: int64"
      ]
     },
     "metadata": {},
     "output_type": "display_data"
    }
   ],
   "source": [
    "#Smallest value in sample\n",
    "minData = df1.min()\n",
    "display(minData)"
   ]
  },
  {
   "cell_type": "markdown",
   "metadata": {},
   "source": [
    "### 10. Counting the number of items(rows)"
   ]
  },
  {
   "cell_type": "code",
   "execution_count": 22,
   "metadata": {
    "colab": {
     "base_uri": "https://localhost:8080/"
    },
    "id": "u9aq_FbvYnmc",
    "outputId": "d44d352a-a114-4afc-b6f3-0951be8cf304"
   },
   "outputs": [
    {
     "name": "stdout",
     "output_type": "stream",
     "text": [
      "3\n"
     ]
    }
   ],
   "source": [
    "#list number of items in the sample\n",
    "item_count = len(df1)\n",
    "print(item_count)"
   ]
  },
  {
   "cell_type": "markdown",
   "metadata": {},
   "source": [
    "### 11. Standard Deviation using Numpy"
   ]
  },
  {
   "cell_type": "code",
   "execution_count": 23,
   "metadata": {
    "colab": {
     "base_uri": "https://localhost:8080/",
     "height": 119
    },
    "id": "yvbRCKYVYyx3",
    "outputId": "3ab60316-d102-4951-fa69-ed98475b21a4"
   },
   "outputs": [
    {
     "data": {
      "text/plain": [
       "buffTail     15.062831\n",
       "GarderBee     7.318166\n",
       "RedTail       3.299832\n",
       "HoneyBee      2.449490\n",
       "CarderBee     9.104334\n",
       "dtype: float64"
      ]
     },
     "metadata": {},
     "output_type": "display_data"
    }
   ],
   "source": [
    "#Standard Deviation of the sample\n",
    "#using numpy\n",
    "stdDataN = np.std(df1)\n",
    "display(stdDataN)"
   ]
  },
  {
   "cell_type": "markdown",
   "metadata": {},
   "source": [
    "### 12. Standard Deviation using Pandas"
   ]
  },
  {
   "cell_type": "code",
   "execution_count": 24,
   "metadata": {
    "colab": {
     "base_uri": "https://localhost:8080/",
     "height": 119
    },
    "id": "V_ODpQ8nZUIc",
    "outputId": "ddb72040-95eb-4c7f-c444-313d9616e7fc"
   },
   "outputs": [
    {
     "data": {
      "text/plain": [
       "buffTail     18.448125\n",
       "GarderBee     8.962886\n",
       "RedTail       4.041452\n",
       "HoneyBee      3.000000\n",
       "CarderBee    11.150486\n",
       "dtype: float64"
      ]
     },
     "metadata": {},
     "output_type": "display_data"
    }
   ],
   "source": [
    "#Standard Deviation of the sample\n",
    "#using pandas\n",
    "stdDataP = df1.std()\n",
    "display(stdDataP)"
   ]
  },
  {
   "cell_type": "markdown",
   "metadata": {},
   "source": [
    "As we can see above, the output for the Standard Deviation calculated by voth methods yield different output. Reason behind this mismatch is the default Degree of Freedom for pandas and numpy library functions. We can manually set the matching value of dof using the parameter 'ddof' in the 'std()' function."
   ]
  },
  {
   "cell_type": "code",
   "execution_count": 25,
   "metadata": {
    "colab": {
     "base_uri": "https://localhost:8080/",
     "height": 119
    },
    "id": "n6yykjtN7gtL",
    "outputId": "4ff9f518-061b-4dc7-eb4d-8f330b134922"
   },
   "outputs": [
    {
     "data": {
      "text/plain": [
       "buffTail     18.448125\n",
       "GarderBee     8.962886\n",
       "RedTail       4.041452\n",
       "HoneyBee      3.000000\n",
       "CarderBee    11.150486\n",
       "dtype: float64"
      ]
     },
     "metadata": {},
     "output_type": "display_data"
    }
   ],
   "source": [
    "#Standard Deviation of the sample\n",
    "#using numpy like pandas\n",
    "sdn= np.std(df1, ddof = 1)\n",
    "display(sdn)"
   ]
  },
  {
   "cell_type": "code",
   "execution_count": 26,
   "metadata": {
    "colab": {
     "base_uri": "https://localhost:8080/",
     "height": 119
    },
    "id": "hkzK4Htf7hWA",
    "outputId": "7c2531d5-cca0-484a-80b9-d0b7f7d0d87e"
   },
   "outputs": [
    {
     "data": {
      "text/plain": [
       "buffTail     15.062831\n",
       "GarderBee     7.318166\n",
       "RedTail       3.299832\n",
       "HoneyBee      2.449490\n",
       "CarderBee     9.104334\n",
       "dtype: float64"
      ]
     },
     "metadata": {},
     "output_type": "display_data"
    }
   ],
   "source": [
    "#Standard Deviation of the sample\n",
    "#using pandas like numpy\n",
    "sdp = df1.std(ddof = 0)\n",
    "display(sdp)"
   ]
  },
  {
   "cell_type": "markdown",
   "metadata": {},
   "source": [
    "### 13. Std calculation by removing na values"
   ]
  },
  {
   "cell_type": "code",
   "execution_count": 27,
   "metadata": {
    "colab": {
     "base_uri": "https://localhost:8080/"
    },
    "id": "kHVB0GmYZCxq",
    "outputId": "9c2adffd-dcb6-4e8a-9d3e-c7ada035eb0b"
   },
   "outputs": [
    {
     "data": {
      "text/plain": [
       "buffTail     18.448125\n",
       "GarderBee     8.962886\n",
       "RedTail       4.041452\n",
       "HoneyBee      3.000000\n",
       "CarderBee    11.150486\n",
       "dtype: float64"
      ]
     },
     "execution_count": 27,
     "metadata": {},
     "output_type": "execute_result"
    }
   ],
   "source": [
    "#SD calculation by removing NA if any\n",
    "#using pandas\n",
    "df1.std(skipna = True)"
   ]
  },
  {
   "cell_type": "code",
   "execution_count": 28,
   "metadata": {
    "colab": {
     "base_uri": "https://localhost:8080/",
     "height": 34
    },
    "id": "TjTn6Th4uHpB",
    "outputId": "b5c7388a-f2f9-4974-d47b-577695916d45"
   },
   "outputs": [
    {
     "data": {
      "text/plain": [
       "10.117092248050106"
      ]
     },
     "metadata": {},
     "output_type": "display_data"
    }
   ],
   "source": [
    "#SD calculation by removing NA if any\n",
    "#using numpy\n",
    "sdn= np.nanstd(df1)\n",
    "display(sdn)"
   ]
  },
  {
   "cell_type": "code",
   "execution_count": 29,
   "metadata": {
    "colab": {
     "base_uri": "https://localhost:8080/"
    },
    "id": "PNOcWqdS9ZAl",
    "outputId": "b3242e34-3e11-47cf-d24c-0ce892e2adf0"
   },
   "outputs": [
    {
     "data": {
      "text/plain": [
       "10.117092248050106"
      ]
     },
     "execution_count": 29,
     "metadata": {},
     "output_type": "execute_result"
    }
   ],
   "source": [
    "np.nanstd(np.where(np.isclose(df1,0), np.nan, df1))"
   ]
  }
 ],
 "metadata": {
  "colab": {
   "name": "dmdwLab3.ipynb",
   "provenance": []
  },
  "kernelspec": {
   "display_name": "Python 3",
   "language": "python",
   "name": "python3"
  },
  "language_info": {
   "codemirror_mode": {
    "name": "ipython",
    "version": 3
   },
   "file_extension": ".py",
   "mimetype": "text/x-python",
   "name": "python",
   "nbconvert_exporter": "python",
   "pygments_lexer": "ipython3",
   "version": "3.8.2"
  }
 },
 "nbformat": 4,
 "nbformat_minor": 1
}
